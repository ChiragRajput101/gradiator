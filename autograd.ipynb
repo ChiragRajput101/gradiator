{
 "cells": [
  {
   "cell_type": "code",
   "execution_count": null,
   "id": "02797b4c-5b49-41d6-88f5-fa660eddac30",
   "metadata": {},
   "outputs": [],
   "source": [
    "import numpy as np"
   ]
  },
  {
   "cell_type": "code",
   "execution_count": null,
   "id": "e51608e5-bb2f-4bc4-aab3-1e9ceb1d37b6",
   "metadata": {},
   "outputs": [],
   "source": [
    "class Node:\n",
    "    def __init__(self, value, grad=1.0, _prev=(), _op='', _label=''):\n",
    "        self.value = value\n",
    "        self.grad = grad\n",
    "        self._prev = set(_prev)\n",
    "        self._op = _op\n",
    "        self._label = _label\n",
    "        \n",
    "    def __add__(self, node: Node) -> Node:\n",
    "        self.grad = 1.0\n",
    "        return Node(self.value + node.value, 1.0, (self, node), '+')\n",
    "        \n",
    "    def __mul__(self, node: Node) -> Node:\n",
    "        self.grad = node.value\n",
    "        node.grad = self.value\n",
    "        return Node(self.value * node.value, 1.0, (self, node), '*')\n",
    "        \n",
    "    def __repr__(self) -> str:\n",
    "        return f\"Node(value={self.value}, grad={self.grad})\"\n",
    "    "
   ]
  },
  {
   "cell_type": "code",
   "execution_count": null,
   "id": "fb4451a1-497d-4a99-a0fd-9e99701a679f",
   "metadata": {},
   "outputs": [],
   "source": [
    "a = Node(2.0); a._label = 'a'\n",
    "b = Node(3.0); b._label = 'b'\n",
    "c = Node(5.0); c._label = 'c'\n",
    "d = a*b; d._label = 'd'\n",
    "L = d + c; L._label = 'L'"
   ]
  },
  {
   "cell_type": "code",
   "execution_count": null,
   "id": "c71e11ba-4c17-415e-b7b1-9d9724bd2eab",
   "metadata": {},
   "outputs": [
    {
     "name": "stdout",
     "output_type": "stream",
     "text": [
      "L, grad:1.0\n",
      "d, grad:1.0\n",
      "b, grad:2.0\n",
      "a, grad:3.0\n",
      "c, grad:1.0\n"
     ]
    }
   ],
   "source": [
    "def calcGrad(root: Node, _grad):\n",
    "    root.grad *= _grad\n",
    "    print(f\"{root._label}, grad:{root.grad}\")\n",
    "    for v in root._prev:\n",
    "        calcGrad(v, root.grad)\n",
    "calcGrad(L, 1.0)"
   ]
  },
  {
   "cell_type": "code",
   "execution_count": null,
   "id": "092e66a3-6129-4705-ad3d-c45ef24a3407",
   "metadata": {},
   "outputs": [],
   "source": []
  }
 ],
 "metadata": {
  "kernelspec": {
   "display_name": "Python 3 (ipykernel)",
   "language": "python",
   "name": "python3"
  },
  "language_info": {
   "codemirror_mode": {
    "name": "ipython",
    "version": 3
   },
   "file_extension": ".py",
   "mimetype": "text/x-python",
   "name": "python",
   "nbconvert_exporter": "python",
   "pygments_lexer": "ipython3",
   "version": "3.10.12"
  }
 },
 "nbformat": 4,
 "nbformat_minor": 5
}
